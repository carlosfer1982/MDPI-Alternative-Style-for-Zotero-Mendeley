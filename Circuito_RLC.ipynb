{
  "nbformat": 4,
  "nbformat_minor": 0,
  "metadata": {
    "colab": {
      "provenance": [],
      "authorship_tag": "ABX9TyPZ3CAcdGFlOHeYEVMlg6WP",
      "include_colab_link": true
    },
    "kernelspec": {
      "name": "python3",
      "display_name": "Python 3"
    }
  },
  "cells": [
    {
      "cell_type": "markdown",
      "metadata": {
        "id": "view-in-github",
        "colab_type": "text"
      },
      "source": [
        "<a href=\"https://colab.research.google.com/github/carlosfer1982/MDPI-Alternative-Style-for-Zotero-Mendeley/blob/master/Circuito_RLC.ipynb\" target=\"_parent\"><img src=\"https://colab.research.google.com/assets/colab-badge.svg\" alt=\"Open In Colab\"/></a>"
      ]
    },
    {
      "cell_type": "code",
      "metadata": {
        "id": "7DcHVmjv-e0I",
        "colab": {
          "base_uri": "https://localhost:8080/"
        },
        "outputId": "437cd9d0-b244-48a2-cd28-c0dde9cc5898"
      },
      "source": [
        "# Em Python, vamos simular um circuito RLC\n",
        "\n",
        "# Vamos gerar um sinal (CA ou CC)\n",
        "\n",
        "\n",
        "# Importando as bibliotecas\n",
        "import numpy as np # Bibliotecas para funções matemáticas\n",
        "import matplotlib.pyplot as plt # Bibliotecas para o plot\n",
        "from sympy import diff, Symbol  # Para a representação simbólica\n",
        "\n",
        "# Modelo de circuito\n",
        "# Note que o circuito deverá Vo/Vi\n",
        "\n",
        "\n",
        "\n",
        "R = 100\n",
        "C = 100*pow(10,-6)\n",
        "#print(R)\n",
        "#print(C)\n",
        "x = Symbol('x')\n",
        "fx = x**7\n",
        "fx\n",
        "print(f'O Resultado da operação é: {fx}')\n",
        "#diff(f,x)\n"
      ],
      "execution_count": 36,
      "outputs": [
        {
          "output_type": "stream",
          "name": "stdout",
          "text": [
            "O Resultado da operação é: x**7\n"
          ]
        }
      ]
    }
  ]
}